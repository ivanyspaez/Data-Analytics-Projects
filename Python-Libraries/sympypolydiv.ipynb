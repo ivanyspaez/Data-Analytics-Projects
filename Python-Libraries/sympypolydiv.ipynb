{
  "nbformat": 4,
  "nbformat_minor": 0,
  "metadata": {
    "colab": {
      "name": "sympypolydiv.ipynb",
      "provenance": []
    },
    "kernelspec": {
      "name": "python3",
      "display_name": "Python 3"
    }
  },
  "cells": [
    {
      "cell_type": "code",
      "metadata": {
        "id": "0lynFYA-IFQt",
        "colab_type": "code",
        "colab": {
          "base_uri": "https://localhost:8080/",
          "height": 34
        },
        "outputId": "9b0433c9-af73-42fc-b9d9-8874e5cbdd7b"
      },
      "source": [
        "from sympy import Symbol\n",
        "from sympy import div\n",
        "\n",
        "x = Symbol('x')\n",
        "\n",
        "def Poly(p,mod):\n",
        "    q,r = div(p,mod,x) #quotient and remainder polynomial division by modulus mod\n",
        "    return q.as_poly(x,domain='GF(2)') #Z_2\n",
        "\n",
        "p = x**5 - 2*x**4  - x**3 + 8*x**2 - 10*x - 4\n",
        "m = x- -1\n",
        "print(Poly(p,m))"
      ],
      "execution_count": 1,
      "outputs": [
        {
          "output_type": "stream",
          "text": [
            "Poly(x**4 + x**3, x, modulus=2)\n"
          ],
          "name": "stdout"
        }
      ]
    }
  ]
}